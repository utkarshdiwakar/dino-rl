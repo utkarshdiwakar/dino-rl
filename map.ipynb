{
 "cells": [
  {
   "cell_type": "code",
   "execution_count": 134,
   "metadata": {},
   "outputs": [],
   "source": [
    "import numpy as np\n",
    "import matplotlib.pyplot as plt\n",
    "import mss\n",
    "import cv2"
   ]
  },
  {
   "cell_type": "code",
   "execution_count": 153,
   "metadata": {},
   "outputs": [],
   "source": [
    "cap = mss.mss()\n",
    "game_location = {'top': 275, 'left': 498, 'width': 343, 'height': 103}\n",
    "# done_location = {'top': 360, 'left': 230, 'width': 300, 'height': 35}\n",
    "raw = np.array(cap.grab(game_location))[:,:,:3].astype(np.uint8)\n",
    "raw = np.mean(raw, axis=-1).astype(np.uint8)"
   ]
  },
  {
   "cell_type": "code",
   "execution_count": 154,
   "metadata": {},
   "outputs": [
    {
     "data": {
      "text/plain": [
       "<matplotlib.image.AxesImage at 0x1290cb810>"
      ]
     },
     "execution_count": 154,
     "metadata": {},
     "output_type": "execute_result"
    },
    {
     "data": {
      "image/png": "[encoded data removed]",
      "text/plain": [
       "<Figure size 640x480 with 1 Axes>"
      ]
     },
     "metadata": {},
     "output_type": "display_data"
    }
   ],
   "source": [
    "plt.imshow(raw, cmap='gray')"
   ]
  },
  {
   "cell_type": "code",
   "execution_count": 155,
   "metadata": {},
   "outputs": [
    {
     "data": {
      "text/plain": [
       "<matplotlib.image.AxesImage at 0x1291815d0>"
      ]
     },
     "execution_count": 155,
     "metadata": {},
     "output_type": "execute_result"
    },
    {
     "data": {
      "image/png": "[encoded data removed]",
      "text/plain": [
       "<Figure size 640x480 with 1 Axes>"
      ]
     },
     "metadata": {},
     "output_type": "display_data"
    }
   ],
   "source": [
    "new_dimensions = (60, 20)\n",
    "raw2 = cv2.resize(raw, new_dimensions, interpolation=cv2.INTER_LANCZOS4)\n",
    "ret, raw2 = cv2.threshold(raw2, 195, 255, cv2.THRESH_BINARY)\n",
    "plt.imshow(raw2, cmap='gray')"
   ]
  },
  {
   "cell_type": "code",
   "execution_count": null,
   "metadata": {},
   "outputs": [],
   "source": []
  },
  {
   "cell_type": "code",
   "execution_count": 128,
   "metadata": {},
   "outputs": [
    {
     "ename": "SyntaxError",
     "evalue": "invalid syntax (1604025594.py, line 25)",
     "output_type": "error",
     "traceback": [
      "\u001b[0;36m  Cell \u001b[0;32mIn[128], line 25\u001b[0;36m\u001b[0m\n\u001b[0;31m    block['height'] = measure_block_height(block['start_col'+])\u001b[0m\n\u001b[0m                                                             ^\u001b[0m\n\u001b[0;31mSyntaxError\u001b[0m\u001b[0;31m:\u001b[0m invalid syntax\n"
     ]
    }
   ],
   "source": [
    "image = raw2\n",
    "threshold = 150\n",
    "\n",
    "# Find the columns with black pixels\n",
    "cols_with_black = [col for col in range(image.shape[1]) if np.any(image[:, col] < threshold)]\n",
    "\n",
    "# Function to measure the height of a block starting at a given column\n",
    "def measure_block_height(col):\n",
    "    rows_with_black = [row for row in range(image.shape[0]) if image[row, col] < threshold]\n",
    "    return len(rows_with_black)\n",
    "\n",
    "blocks = []\n",
    "for col in cols_with_black:\n",
    "    if blocks and blocks[-1]['end_col'] + 1 == col:\n",
    "        # If the current column is just to the right of the last block, it's part of that block\n",
    "        blocks[-1]['end_col'] = col\n",
    "    else:\n",
    "        # Otherwise, it's a new block\n",
    "        blocks.append({'start_col': col, 'end_col': col})\n",
    "\n",
    "# Calculate distance and height for each block\n",
    "for block in blocks:\n",
    "    block['distance_from_left'] = block['start_col']\n",
    "    block['height'] = measure_block_height(block['start_col'+])\n",
    "\n",
    "# Assuming you only want the nearest and next block details\n",
    "nearest_block = blocks[0] if blocks else None\n",
    "next_block = blocks[1] if len(blocks) > 1 else None\n",
    "\n",
    "print(\"Nearest Block:\", nearest_block)\n",
    "print(\"Next Block:\", next_block)\n"
   ]
  },
  {
   "cell_type": "code",
   "execution_count": null,
   "metadata": {},
   "outputs": [],
   "source": [
    "# `# plt.figure(figsize=(23,100))\n",
    "# plt.grid()\n",
    "# plt.imshow(raw, cmap='gray')\n",
    "# # x_ticks = range(0, raw.shape[1], 1)\n",
    "# # y_ticks = range(0, raw.shape[0], 1)\n",
    "# # plt.xticks(x_ticks)\n",
    "# # plt.yticks(y_ticks)`"
   ]
  },
  {
   "cell_type": "code",
   "execution_count": 76,
   "metadata": {},
   "outputs": [
    {
     "data": {
      "text/plain": [
       "(20, 30, 3)"
      ]
     },
     "execution_count": 76,
     "metadata": {},
     "output_type": "execute_result"
    }
   ],
   "source": [
    "raw.shape"
   ]
  },
  {
   "cell_type": "code",
   "execution_count": 32,
   "metadata": {},
   "outputs": [
    {
     "data": {
      "text/plain": [
       "247"
      ]
     },
     "execution_count": 32,
     "metadata": {},
     "output_type": "execute_result"
    }
   ],
   "source": [
    "for i in range(env):\n",
    "    for j in range(env[i]):\n",
    "        if (env[i][j] < 100){}"
   ]
  },
  {
   "cell_type": "code",
   "execution_count": null,
   "metadata": {},
   "outputs": [],
   "source": []
  }
 ],
 "metadata": {
  "kernelspec": {
   "display_name": "base",
   "language": "python",
   "name": "python3"
  },
  "language_info": {
   "codemirror_mode": {
    "name": "ipython",
    "version": 3
   },
   "file_extension": ".py",
   "mimetype": "text/x-python",
   "name": "python",
   "nbconvert_exporter": "python",
   "pygments_lexer": "ipython3",
   "version": "3.11.5"
  },
  "orig_nbformat": 4
 },
 "nbformat": 4,
 "nbformat_minor": 2
}
